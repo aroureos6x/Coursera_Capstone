{
 "cells": [
  {
   "cell_type": "markdown",
   "metadata": {},
   "source": [
    "<h1> Coursera Capstone Project - The Battle of Neighborhoods </h1>"
   ]
  },
  {
   "cell_type": "markdown",
   "metadata": {},
   "source": [
    "<h2> Introduction: Business Problem </h2>"
   ]
  },
  {
   "cell_type": "markdown",
   "metadata": {},
   "source": [
    "**Cyprus**, a Greek island located in the Eastern part of the Mediterranian sea, has seen a great rise in demand for technology jobs in the city of **Limassol**. This resulted to a great deal of people moving from the island's capital city, **Nicosia**, to **Limassol** in search of a job.\n",
    "\n",
    "In this project we will try to find an optimal location for a person looking to move to a similar area from one city to another. Specifically, this report will be targeted to stakeholders interested in moving from **Nicosia**,Cyprus to **Limassol**,Cyprus.\n",
    "\n",
    "Helping people find a place to live in **Limassol** where the environment is similar to where they lived in **Nicosia** is beneficial for both the moving workers and their employees because moving to a similar environment takes a smaller toll on their productivity."
   ]
  },
  {
   "cell_type": "markdown",
   "metadata": {},
   "source": [
    "<h2> Data </h2>"
   ]
  },
  {
   "cell_type": "markdown",
   "metadata": {},
   "source": [
    "Based on our Business problem the factors that will influence our decisions are:\n",
    "* Most common venues in the locations\n",
    "\n",
    "The **district** of Nicosia and **district** of Limassol have a diverse environment that includes coastal areas and mountainious areas. Because of that we decided to use each city's district's municipalities as locations of interest so that the whole range of different environments is captured.\n",
    "\n",
    "The following data will be needed to extract and generate information:\n",
    "* Municipalities of each District obtained from a dataset frmo the **Postal Service of the Republic of Cyprus**\n",
    "* Number of nearby venues and their category obtained using **Forsquare API**\n",
    "* Coordinates of each Municipality obtained using **Nominatim API**"
   ]
  }
 ],
 "metadata": {
  "kernelspec": {
   "display_name": "Python",
   "language": "python",
   "name": "conda-env-python-py"
  },
  "language_info": {
   "codemirror_mode": {
    "name": "ipython",
    "version": 3
   },
   "file_extension": ".py",
   "mimetype": "text/x-python",
   "name": "python",
   "nbconvert_exporter": "python",
   "pygments_lexer": "ipython3",
   "version": "3.6.12"
  }
 },
 "nbformat": 4,
 "nbformat_minor": 4
}
